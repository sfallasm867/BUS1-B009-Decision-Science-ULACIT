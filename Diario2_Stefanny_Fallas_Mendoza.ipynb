{
  "nbformat": 4,
  "nbformat_minor": 0,
  "metadata": {
    "colab": {
      "name": "Diario2-Stefanny-Fallas-Mendoza.ipynb",
      "provenance": [],
      "collapsed_sections": []
    },
    "kernelspec": {
      "name": "python3",
      "display_name": "Python 3"
    },
    "language_info": {
      "name": "python"
    }
  },
  "cells": [
    {
      "cell_type": "code",
      "execution_count": 1,
      "metadata": {
        "id": "pgeo1Ak9GO_U"
      },
      "outputs": [],
      "source": [
        "import math \n"
      ]
    },
    {
      "cell_type": "code",
      "source": [
        "import math as mt\n",
        "r = mt.pi + 8 ** 4\n",
        "print(r)"
      ],
      "metadata": {
        "colab": {
          "base_uri": "https://localhost:8080/"
        },
        "id": "GzdZoB1jGyBI",
        "outputId": "74dfa9d3-f992-4ba6-cd16-2097247f0695"
      },
      "execution_count": 2,
      "outputs": [
        {
          "output_type": "stream",
          "name": "stdout",
          "text": [
            "4099.14159265359\n"
          ]
        }
      ]
    },
    {
      "cell_type": "code",
      "source": [
        "import math as mt\n",
        "r = 1342 - 1677 * (9/7) - 6\n",
        "result = abs (r)\n",
        "print(r)\n"
      ],
      "metadata": {
        "colab": {
          "base_uri": "https://localhost:8080/"
        },
        "id": "8-QuzDnOJBGk",
        "outputId": "db2fcb13-1073-4150-e62e-d7d1ed1975e8"
      },
      "execution_count": 11,
      "outputs": [
        {
          "output_type": "stream",
          "name": "stdout",
          "text": [
            "-820.1428571428573\n"
          ]
        }
      ]
    },
    {
      "cell_type": "code",
      "source": [
        "mt.factorial (9)"
      ],
      "metadata": {
        "colab": {
          "base_uri": "https://localhost:8080/"
        },
        "id": "8LLhHWALL1av",
        "outputId": "8dd0a99d-37ee-40d0-d419-23056e61bf0c"
      },
      "execution_count": 14,
      "outputs": [
        {
          "output_type": "execute_result",
          "data": {
            "text/plain": [
              "362880"
            ]
          },
          "metadata": {},
          "execution_count": 14
        }
      ]
    },
    {
      "cell_type": "code",
      "source": [
        "mt.log(7, 10)\n"
      ],
      "metadata": {
        "colab": {
          "base_uri": "https://localhost:8080/"
        },
        "id": "AsA163gQM6pB",
        "outputId": "88811cce-eae4-4713-a5df-0edf24a47f18"
      },
      "execution_count": 15,
      "outputs": [
        {
          "output_type": "execute_result",
          "data": {
            "text/plain": [
              "0.8450980400142567"
            ]
          },
          "metadata": {},
          "execution_count": 15
        }
      ]
    },
    {
      "cell_type": "code",
      "source": [
        "r = mt.e ** 0.555457\n",
        "mt.e ** 0.555457\n",
        "print (r)"
      ],
      "metadata": {
        "colab": {
          "base_uri": "https://localhost:8080/"
        },
        "id": "qcwl6kfCNbBs",
        "outputId": "c7f55c38-2e76-4530-fe84-bc6e6007ef0d"
      },
      "execution_count": 18,
      "outputs": [
        {
          "output_type": "stream",
          "name": "stdout",
          "text": [
            "1.7427372337331462\n"
          ]
        }
      ]
    },
    {
      "cell_type": "code",
      "source": [
        "y = mt.pi\n",
        "print(y)\n",
        "\n",
        "z = 41\n",
        "print(z)\n",
        "\n",
        "from math import modf\n",
        "\n",
        "x = (2 + y) / (7 + 2*(z ** 2))\n",
        "print(x)"
      ],
      "metadata": {
        "colab": {
          "base_uri": "https://localhost:8080/"
        },
        "id": "JbiTwMwUSHE_",
        "outputId": "a688b2f1-2dba-4531-da3e-16b31e5f8efb"
      },
      "execution_count": 36,
      "outputs": [
        {
          "output_type": "stream",
          "name": "stdout",
          "text": [
            "3.141592653589793\n",
            "41\n",
            "0.001526148012344848\n"
          ]
        }
      ]
    },
    {
      "cell_type": "code",
      "source": [
        "x = (2, - 6, 27, -8, - 9, - 21, 9, 5, 562, mt.pi)\n",
        "print(x)"
      ],
      "metadata": {
        "colab": {
          "base_uri": "https://localhost:8080/"
        },
        "id": "ke8ZErFtbV7x",
        "outputId": "164d9e18-33b3-4a87-bd65-5eab7d8aa01f"
      },
      "execution_count": 57,
      "outputs": [
        {
          "output_type": "stream",
          "name": "stdout",
          "text": [
            "(2, -6, 27, -8, -9, -21, 9, 5, 562, 3.141592653589793)\n"
          ]
        }
      ]
    },
    {
      "cell_type": "code",
      "source": [
        "y = (8, 9, 31, 18, - 5, - 18, 9, - 22, 0, 9)\n",
        "print (y)"
      ],
      "metadata": {
        "colab": {
          "base_uri": "https://localhost:8080/"
        },
        "id": "HGGtV-CgdLdA",
        "outputId": "8523726c-bf05-4631-854f-6f1b8b5220cc"
      },
      "execution_count": 58,
      "outputs": [
        {
          "output_type": "stream",
          "name": "stdout",
          "text": [
            "(8, 9, 31, 18, -5, -18, 9, -22, 0, 9)\n"
          ]
        }
      ]
    },
    {
      "cell_type": "code",
      "source": [
        "import pandas as pd \n",
        "import numpy as np\n",
        "import statistics as st \n",
        "st.mean(x)\n"
      ],
      "metadata": {
        "colab": {
          "base_uri": "https://localhost:8080/"
        },
        "id": "hAUPOt4lhA6n",
        "outputId": "78d6cf34-fb82-4ba9-8768-ab45bdddcbbf"
      },
      "execution_count": 71,
      "outputs": [
        {
          "output_type": "execute_result",
          "data": {
            "text/plain": [
              "56.41415926535898"
            ]
          },
          "metadata": {},
          "execution_count": 71
        }
      ]
    },
    {
      "cell_type": "code",
      "source": [
        "st.median(x)\n"
      ],
      "metadata": {
        "colab": {
          "base_uri": "https://localhost:8080/"
        },
        "id": "h4R10C_Vht7O",
        "outputId": "85aa1110-0665-40e3-c852-eb2c4d8c458e"
      },
      "execution_count": 69,
      "outputs": [
        {
          "output_type": "execute_result",
          "data": {
            "text/plain": [
              "2.5707963267948966"
            ]
          },
          "metadata": {},
          "execution_count": 69
        }
      ]
    },
    {
      "cell_type": "code",
      "source": [
        "st.variance(x)\n"
      ],
      "metadata": {
        "colab": {
          "base_uri": "https://localhost:8080/"
        },
        "id": "yzV4UgKvhwVE",
        "outputId": "ab915bd3-9bea-43e3-e3fa-60046c16149e"
      },
      "execution_count": 61,
      "outputs": [
        {
          "output_type": "execute_result",
          "data": {
            "text/plain": [
              "31721.032883136468"
            ]
          },
          "metadata": {},
          "execution_count": 61
        }
      ]
    },
    {
      "cell_type": "code",
      "source": [
        "st.stdev(x)"
      ],
      "metadata": {
        "colab": {
          "base_uri": "https://localhost:8080/"
        },
        "id": "aR5TQxgThx4Q",
        "outputId": "2123dcf0-0496-4d97-e46e-7ec291539036"
      },
      "execution_count": 62,
      "outputs": [
        {
          "output_type": "execute_result",
          "data": {
            "text/plain": [
              "178.10399457377835"
            ]
          },
          "metadata": {},
          "execution_count": 62
        }
      ]
    },
    {
      "cell_type": "code",
      "source": [
        "st.mean(y)"
      ],
      "metadata": {
        "colab": {
          "base_uri": "https://localhost:8080/"
        },
        "id": "RZXrgkLSh-Si",
        "outputId": "e3b153ca-2207-471c-c047-45345105660c"
      },
      "execution_count": 63,
      "outputs": [
        {
          "output_type": "execute_result",
          "data": {
            "text/plain": [
              "3.9"
            ]
          },
          "metadata": {},
          "execution_count": 63
        }
      ]
    },
    {
      "cell_type": "code",
      "source": [
        "st.median(y)"
      ],
      "metadata": {
        "colab": {
          "base_uri": "https://localhost:8080/"
        },
        "id": "Akaj0_2riBpR",
        "outputId": "48ee2777-e836-4020-feaf-60ce381c716d"
      },
      "execution_count": 68,
      "outputs": [
        {
          "output_type": "execute_result",
          "data": {
            "text/plain": [
              "8.5"
            ]
          },
          "metadata": {},
          "execution_count": 68
        }
      ]
    },
    {
      "cell_type": "code",
      "source": [
        "st.variance(y)"
      ],
      "metadata": {
        "colab": {
          "base_uri": "https://localhost:8080/"
        },
        "id": "r2iVudXkiDdl",
        "outputId": "d9061171-fb72-4a93-8619-acba652bc2a7"
      },
      "execution_count": 65,
      "outputs": [
        {
          "output_type": "execute_result",
          "data": {
            "text/plain": [
              "252.54444444444445"
            ]
          },
          "metadata": {},
          "execution_count": 65
        }
      ]
    },
    {
      "cell_type": "code",
      "source": [
        "st.stdev(y)"
      ],
      "metadata": {
        "colab": {
          "base_uri": "https://localhost:8080/"
        },
        "id": "ivI_zmeOiFA5",
        "outputId": "8d071805-0e0e-44ea-d8b2-a172ca0c5b39"
      },
      "execution_count": 70,
      "outputs": [
        {
          "output_type": "execute_result",
          "data": {
            "text/plain": [
              "15.891647002260164"
            ]
          },
          "metadata": {},
          "execution_count": 70
        }
      ]
    },
    {
      "cell_type": "code",
      "source": [
        "import matplotlib.pyplot as plt \n",
        "x_simple = np.array([2, - 6, 27, - 8, - 9, - 21, 9, 5, 562, mt.pi])\n",
        "y_simple = np.array([8, 9, - 31, 18, - 5, - 18, 9, - 22, 0, 9])\n",
        "my_rho = np.corrcoef(x_simple, y_simple)\n",
        "\n",
        "print(my_rho)"
      ],
      "metadata": {
        "colab": {
          "base_uri": "https://localhost:8080/"
        },
        "id": "iGtY_-u8nOBm",
        "outputId": "78282e70-9651-4ab9-f4d1-b70ef9190dcb"
      },
      "execution_count": 74,
      "outputs": [
        {
          "output_type": "stream",
          "name": "stdout",
          "text": [
            "[[1.         0.02692977]\n",
            " [0.02692977 1.        ]]\n"
          ]
        }
      ]
    },
    {
      "cell_type": "code",
      "source": [
        "int_list = [2, - 6, 27, -8, - 9, - 21, 9, 5, 562, mt.pi]\n",
        "int_list.reverse ()\n",
        "print (int_list)\n"
      ],
      "metadata": {
        "colab": {
          "base_uri": "https://localhost:8080/"
        },
        "id": "uhsO5AeNoXEb",
        "outputId": "719da72a-ce79-474d-e298-95e17f4925e6"
      },
      "execution_count": 75,
      "outputs": [
        {
          "output_type": "stream",
          "name": "stdout",
          "text": [
            "[3.141592653589793, 562, 5, 9, -21, -9, -8, 27, -6, 2]\n"
          ]
        }
      ]
    },
    {
      "cell_type": "code",
      "source": [
        "int_list = [8, 9, - 31, 18, - 5, - 18, 9, - 22, 0, 9]\n",
        "int_list.reverse()\n",
        "print(int_list)"
      ],
      "metadata": {
        "colab": {
          "base_uri": "https://localhost:8080/"
        },
        "id": "ZFSmEP6IpOEN",
        "outputId": "7bbab16e-aac2-4990-c4e0-d099b884b907"
      },
      "execution_count": 77,
      "outputs": [
        {
          "output_type": "stream",
          "name": "stdout",
          "text": [
            "[9, 0, -22, 9, -18, -5, 18, -31, 9, 8]\n"
          ]
        }
      ]
    },
    {
      "cell_type": "code",
      "source": [
        "import pandas as pd\n",
        "\n",
        "datos = [\n",
        "    {'Sexo': 'H', 'Peso': 43, 'Edad': '15', 'NivelEducativo': 'Lic'},\n",
        "    {'Sexo': 'M', 'Peso': 35, 'Edad': '21', 'NivelEducativo': 'Bach'},\n",
        "    {'Sexo': 'H', 'Peso': 96, 'Edad': '19', 'NivelEducativo': 'Bach'},\n",
        "    {'Sexo': 'M', 'Peso': 56, 'Edad': '17', 'NivelEducativo': 'Bach'},\n",
        "    {'Sexo': 'H', 'Peso': 25, 'Edad': '25', 'NivelEducativo': 'Dr'},\n",
        "    {'Sexo': 'M', 'Peso': 48, 'Edad': '35', 'NivelEducativo': 'MSc'},\n",
        "    \n",
        "]\n",
        "\n",
        "df = pd.DataFrame(datos)\n",
        "\n",
        "print(df)"
      ],
      "metadata": {
        "colab": {
          "base_uri": "https://localhost:8080/"
        },
        "id": "ecbOf4xzuRSr",
        "outputId": "c9de80d4-893b-4367-967b-36cb82befdd3"
      },
      "execution_count": 1,
      "outputs": [
        {
          "output_type": "stream",
          "name": "stdout",
          "text": [
            "  Sexo  Peso Edad NivelEducativo\n",
            "0    H    43   15            Lic\n",
            "1    M    35   21           Bach\n",
            "2    H    96   19           Bach\n",
            "3    M    56   17           Bach\n",
            "4    H    25   25             Dr\n",
            "5    M    48   35            MSc\n"
          ]
        }
      ]
    },
    {
      "cell_type": "code",
      "source": [
        "lista_cubo = 0\n",
        "n = 100\n",
        "for valor in range (n + 1):\n",
        "  suma = valor ** 3\n",
        "  lista_cubo = lista_cubo + suma\n",
        "print(lista_cubo)\n"
      ],
      "metadata": {
        "colab": {
          "base_uri": "https://localhost:8080/"
        },
        "id": "XqAH9AE56WVM",
        "outputId": "acc7f9dc-4374-403d-c565-5aa52e945cab"
      },
      "execution_count": 3,
      "outputs": [
        {
          "output_type": "stream",
          "name": "stdout",
          "text": [
            "25502500\n"
          ]
        }
      ]
    }
  ]
}