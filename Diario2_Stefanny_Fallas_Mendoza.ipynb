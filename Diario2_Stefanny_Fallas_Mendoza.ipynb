{
  "nbformat": 4,
  "nbformat_minor": 0,
  "metadata": {
    "colab": {
      "name": "Diario2-Stefanny-Fallas-Mendoza.ipynb",
      "provenance": [],
      "authorship_tag": "ABX9TyPW4KXcO3ZlFSJ20ysg21gc",
      "include_colab_link": true
    },
    "kernelspec": {
      "name": "python3",
      "display_name": "Python 3"
    },
    "language_info": {
      "name": "python"
    }
  },
  "cells": [
    {
      "cell_type": "markdown",
      "metadata": {
        "id": "view-in-github",
        "colab_type": "text"
      },
      "source": [
        "<a href=\"https://colab.research.google.com/github/sfallasm867/BUS1-B009-Decision-Science-ULACIT/blob/main/Diario2_Stefanny_Fallas_Mendoza.ipynb\" target=\"_parent\"><img src=\"https://colab.research.google.com/assets/colab-badge.svg\" alt=\"Open In Colab\"/></a>"
      ]
    },
    {
      "cell_type": "code",
      "execution_count": 1,
      "metadata": {
        "id": "pgeo1Ak9GO_U"
      },
      "outputs": [],
      "source": [
        "import math \n"
      ]
    },
    {
      "cell_type": "code",
      "source": [
        "import math as mt\n",
        "r = mt.pi + 8 ** 4\n",
        "print(r)"
      ],
      "metadata": {
        "colab": {
          "base_uri": "https://localhost:8080/"
        },
        "id": "GzdZoB1jGyBI",
        "outputId": "74dfa9d3-f992-4ba6-cd16-2097247f0695"
      },
      "execution_count": 2,
      "outputs": [
        {
          "output_type": "stream",
          "name": "stdout",
          "text": [
            "4099.14159265359\n"
          ]
        }
      ]
    },
    {
      "cell_type": "code",
      "source": [
        "import math as mt\n",
        "r = 1342 - 1677 * (9/7) - 6\n",
        "result = abs (r)\n",
        "print(r)\n"
      ],
      "metadata": {
        "colab": {
          "base_uri": "https://localhost:8080/"
        },
        "id": "8-QuzDnOJBGk",
        "outputId": "db2fcb13-1073-4150-e62e-d7d1ed1975e8"
      },
      "execution_count": 11,
      "outputs": [
        {
          "output_type": "stream",
          "name": "stdout",
          "text": [
            "-820.1428571428573\n"
          ]
        }
      ]
    },
    {
      "cell_type": "code",
      "source": [
        "mt.factorial (9)"
      ],
      "metadata": {
        "colab": {
          "base_uri": "https://localhost:8080/"
        },
        "id": "8LLhHWALL1av",
        "outputId": "8dd0a99d-37ee-40d0-d419-23056e61bf0c"
      },
      "execution_count": 14,
      "outputs": [
        {
          "output_type": "execute_result",
          "data": {
            "text/plain": [
              "362880"
            ]
          },
          "metadata": {},
          "execution_count": 14
        }
      ]
    },
    {
      "cell_type": "code",
      "source": [
        "mt.log(7, 10)\n"
      ],
      "metadata": {
        "colab": {
          "base_uri": "https://localhost:8080/"
        },
        "id": "AsA163gQM6pB",
        "outputId": "88811cce-eae4-4713-a5df-0edf24a47f18"
      },
      "execution_count": 15,
      "outputs": [
        {
          "output_type": "execute_result",
          "data": {
            "text/plain": [
              "0.8450980400142567"
            ]
          },
          "metadata": {},
          "execution_count": 15
        }
      ]
    },
    {
      "cell_type": "code",
      "source": [
        "r = mt.e ** 0.555457\n",
        "mt.e ** 0.555457\n",
        "print (r)"
      ],
      "metadata": {
        "colab": {
          "base_uri": "https://localhost:8080/"
        },
        "id": "qcwl6kfCNbBs",
        "outputId": "c7f55c38-2e76-4530-fe84-bc6e6007ef0d"
      },
      "execution_count": 18,
      "outputs": [
        {
          "output_type": "stream",
          "name": "stdout",
          "text": [
            "1.7427372337331462\n"
          ]
        }
      ]
    },
    {
      "cell_type": "code",
      "source": [
        "y = mt.pi\n",
        "print(y)\n",
        "\n",
        "z = 41\n",
        "print(z)\n",
        "\n",
        "from math import modf\n",
        "\n",
        "x = (2 + y) / (7 + 2*(z ** 2))\n",
        "print(x)"
      ],
      "metadata": {
        "colab": {
          "base_uri": "https://localhost:8080/"
        },
        "id": "JbiTwMwUSHE_",
        "outputId": "a688b2f1-2dba-4531-da3e-16b31e5f8efb"
      },
      "execution_count": 36,
      "outputs": [
        {
          "output_type": "stream",
          "name": "stdout",
          "text": [
            "3.141592653589793\n",
            "41\n",
            "0.001526148012344848\n"
          ]
        }
      ]
    },
    {
      "cell_type": "code",
      "source": [
        "x = (2, 6, 27, 8, 9, 21, 9, 5, 562, mt.pi)\n",
        "print(x)"
      ],
      "metadata": {
        "colab": {
          "base_uri": "https://localhost:8080/"
        },
        "id": "ke8ZErFtbV7x",
        "outputId": "5e03491d-d3fd-4489-ada0-fb2441b3714c"
      },
      "execution_count": 38,
      "outputs": [
        {
          "output_type": "stream",
          "name": "stdout",
          "text": [
            "(2, 6, 27, 8, 9, 21, 9, 5, 562, 3.141592653589793)\n"
          ]
        }
      ]
    },
    {
      "cell_type": "code",
      "source": [
        "y = (8, 9, 31, 18, 5, 18, 9, 22, 0, 9)\n",
        "print (y)"
      ],
      "metadata": {
        "colab": {
          "base_uri": "https://localhost:8080/"
        },
        "id": "HGGtV-CgdLdA",
        "outputId": "925db60c-a08f-4484-af35-7d64d09446fd"
      },
      "execution_count": 39,
      "outputs": [
        {
          "output_type": "stream",
          "name": "stdout",
          "text": [
            "(8, 9, 31, 18, 5, 18, 9, 22, 0, 9)\n"
          ]
        }
      ]
    },
    {
      "cell_type": "code",
      "source": [
        "import statistics as st \n",
        "st.mean(x)\n"
      ],
      "metadata": {
        "colab": {
          "base_uri": "https://localhost:8080/"
        },
        "id": "hAUPOt4lhA6n",
        "outputId": "4d2d03dc-4130-44c7-98d6-66112d15dfff"
      },
      "execution_count": 44,
      "outputs": [
        {
          "output_type": "execute_result",
          "data": {
            "text/plain": [
              "65.21415926535897"
            ]
          },
          "metadata": {},
          "execution_count": 44
        }
      ]
    },
    {
      "cell_type": "code",
      "source": [
        "st.median(x)\n"
      ],
      "metadata": {
        "colab": {
          "base_uri": "https://localhost:8080/"
        },
        "id": "h4R10C_Vht7O",
        "outputId": "5ff774a7-5860-4dec-90a9-59fc9879257e"
      },
      "execution_count": 46,
      "outputs": [
        {
          "output_type": "execute_result",
          "data": {
            "text/plain": [
              "8.5"
            ]
          },
          "metadata": {},
          "execution_count": 46
        }
      ]
    },
    {
      "cell_type": "code",
      "source": [
        "st.variance(x)\n"
      ],
      "metadata": {
        "colab": {
          "base_uri": "https://localhost:8080/"
        },
        "id": "yzV4UgKvhwVE",
        "outputId": "604c5f62-8f49-4b37-a8aa-886b41348f08"
      },
      "execution_count": 47,
      "outputs": [
        {
          "output_type": "execute_result",
          "data": {
            "text/plain": [
              "30531.77821305834"
            ]
          },
          "metadata": {},
          "execution_count": 47
        }
      ]
    },
    {
      "cell_type": "code",
      "source": [
        "st.stdev(x)"
      ],
      "metadata": {
        "colab": {
          "base_uri": "https://localhost:8080/"
        },
        "id": "aR5TQxgThx4Q",
        "outputId": "1d39e3b6-dad7-4ae1-91dc-86721d710701"
      },
      "execution_count": 54,
      "outputs": [
        {
          "output_type": "execute_result",
          "data": {
            "text/plain": [
              "174.7334490389815"
            ]
          },
          "metadata": {},
          "execution_count": 54
        }
      ]
    },
    {
      "cell_type": "code",
      "source": [
        "st.mean(y)"
      ],
      "metadata": {
        "colab": {
          "base_uri": "https://localhost:8080/"
        },
        "id": "RZXrgkLSh-Si",
        "outputId": "cb385691-2c0a-4d7e-cc62-8cef8e89003f"
      },
      "execution_count": 53,
      "outputs": [
        {
          "output_type": "execute_result",
          "data": {
            "text/plain": [
              "12.9"
            ]
          },
          "metadata": {},
          "execution_count": 53
        }
      ]
    },
    {
      "cell_type": "code",
      "source": [
        "st.median(y)"
      ],
      "metadata": {
        "colab": {
          "base_uri": "https://localhost:8080/"
        },
        "id": "Akaj0_2riBpR",
        "outputId": "2eb02ac2-5b55-490a-c76b-0575a6fca9e7"
      },
      "execution_count": 52,
      "outputs": [
        {
          "output_type": "execute_result",
          "data": {
            "text/plain": [
              "9.0"
            ]
          },
          "metadata": {},
          "execution_count": 52
        }
      ]
    },
    {
      "cell_type": "code",
      "source": [
        "st.variance(y)"
      ],
      "metadata": {
        "colab": {
          "base_uri": "https://localhost:8080/"
        },
        "id": "r2iVudXkiDdl",
        "outputId": "ac61591a-ae25-429a-a39e-47d6109e1ade"
      },
      "execution_count": 51,
      "outputs": [
        {
          "output_type": "execute_result",
          "data": {
            "text/plain": [
              "84.54444444444445"
            ]
          },
          "metadata": {},
          "execution_count": 51
        }
      ]
    },
    {
      "cell_type": "code",
      "source": [
        "st.stdev(y)"
      ],
      "metadata": {
        "colab": {
          "base_uri": "https://localhost:8080/"
        },
        "id": "ivI_zmeOiFA5",
        "outputId": "bc7f22e0-8cb8-4f3f-9736-b7a2b272311b"
      },
      "execution_count": 50,
      "outputs": [
        {
          "output_type": "execute_result",
          "data": {
            "text/plain": [
              "9.194805296712076"
            ]
          },
          "metadata": {},
          "execution_count": 50
        }
      ]
    }
  ]
}